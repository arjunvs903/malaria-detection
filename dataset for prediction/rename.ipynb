{
 "cells": [
  {
   "cell_type": "code",
   "execution_count": 3,
   "id": "5fe0e102-927f-43b1-8b3c-ce825ee75e86",
   "metadata": {},
   "outputs": [
    {
     "name": "stdout",
     "output_type": "stream",
     "text": [
      "Renaming complete!\n"
     ]
    }
   ],
   "source": [
    "import os\n",
    "\n",
    "# specify the path of the folder containing the files you want to rename\n",
    "folder_path = \"Uninfected\"\n",
    "\n",
    "# specify the new prefix you want to use for the renamed files\n",
    "new_prefix = \"uninf\"\n",
    "\n",
    "# get a list of all the files in the folder\n",
    "files = os.listdir(folder_path)\n",
    "\n",
    "# iterate through the files and rename them\n",
    "for index, file in enumerate(files):\n",
    "    # construct the new file name\n",
    "    new_file_name = f\"{new_prefix}{index+1}.png\" # change the file extension as required\n",
    "    \n",
    "    # construct the full path of the old and new files\n",
    "    old_file_path = os.path.join(folder_path, file)\n",
    "    new_file_path = os.path.join(folder_path, new_file_name)\n",
    "    \n",
    "    # rename the file\n",
    "    os.rename(old_file_path, new_file_path)\n",
    "    \n",
    "print(\"Renaming complete!\")"
   ]
  },
  {
   "cell_type": "code",
   "execution_count": null,
   "id": "dbd2d349-3057-42dc-8721-c2f38f0b44ff",
   "metadata": {},
   "outputs": [],
   "source": []
  }
 ],
 "metadata": {
  "kernelspec": {
   "display_name": "Python 3 (ipykernel)",
   "language": "python",
   "name": "python3"
  },
  "language_info": {
   "codemirror_mode": {
    "name": "ipython",
    "version": 3
   },
   "file_extension": ".py",
   "mimetype": "text/x-python",
   "name": "python",
   "nbconvert_exporter": "python",
   "pygments_lexer": "ipython3",
   "version": "3.9.16"
  }
 },
 "nbformat": 4,
 "nbformat_minor": 5
}
