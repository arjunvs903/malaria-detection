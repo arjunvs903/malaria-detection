{
 "cells": [
  {
   "cell_type": "code",
   "execution_count": 16,
   "id": "ac0062fe-e059-4b83-b5a1-9d7aad3ed319",
   "metadata": {},
   "outputs": [],
   "source": [
    "import os\n",
    "import tensorflow as tf\n",
    "import numpy as np\n",
    "import cv2"
   ]
  },
  {
   "cell_type": "code",
   "execution_count": 17,
   "id": "e402b53e-7946-4e31-8ce0-7b562be0be9f",
   "metadata": {},
   "outputs": [
    {
     "name": "stdout",
     "output_type": "stream",
     "text": [
      "Class names: ['Parasitized', 'Uninfected']\n"
     ]
    }
   ],
   "source": [
    "data_dir = 'datasource/cell_images'\n",
    "\n",
    "# Get the subdirectory names in the data directory\n",
    "class_names = os.listdir(data_dir)\n",
    "\n",
    "# Sort the class names alphabetically\n",
    "class_names.sort()\n",
    "\n",
    "print('Class names:', class_names)"
   ]
  },
  {
   "cell_type": "markdown",
   "id": "cec88d1b-c629-4f9a-8d18-72a1746722cd",
   "metadata": {},
   "source": [
    "### Load the saved model"
   ]
  },
  {
   "cell_type": "code",
   "execution_count": 18,
   "id": "2e18b8c0-08aa-4785-b724-4479a8a547ed",
   "metadata": {},
   "outputs": [],
   "source": [
    "model = tf.keras.models.load_model('models/Malaria_Detection.h5')"
   ]
  },
  {
   "cell_type": "markdown",
   "id": "03089ea2-8a64-4139-93ac-df5d680189a1",
   "metadata": {},
   "source": [
    "### Load the new image"
   ]
  },
  {
   "cell_type": "code",
   "execution_count": 27,
   "id": "08e02f63-84d7-46b0-844b-2ac3669440c2",
   "metadata": {},
   "outputs": [],
   "source": [
    "img = cv2.imread('unknown/Uninfected/C13NThinF_IMG_20150614_131529_cell_34.png')\n",
    "img = cv2.cvtColor(img, cv2.COLOR_BGR2RGB)"
   ]
  },
  {
   "cell_type": "markdown",
   "id": "e41a11bd-e040-496b-a0aa-29a89a135cc8",
   "metadata": {},
   "source": [
    "### Preprocess the image"
   ]
  },
  {
   "cell_type": "code",
   "execution_count": 28,
   "id": "cbfa1fcd-d500-48bf-9e62-a5d782b63cdb",
   "metadata": {},
   "outputs": [],
   "source": [
    "img_width =224\n",
    "img_height =224\n",
    "img = cv2.resize(img, (img_width, img_height))\n",
    "img_array = img.astype(np.float32) / 255.0\n",
    "img_array = np.expand_dims(img_array, axis=0)"
   ]
  },
  {
   "cell_type": "markdown",
   "id": "0a0d51a1-ffa9-454a-99a5-df52f3abb3b9",
   "metadata": {},
   "source": [
    "### Generate the prediction"
   ]
  },
  {
   "cell_type": "code",
   "execution_count": 40,
   "id": "46ebc97e-972f-4f3d-9b45-8044b2efc07e",
   "metadata": {},
   "outputs": [
    {
     "name": "stdout",
     "output_type": "stream",
     "text": [
      "1/1 [==============================] - 0s 95ms/step\n"
     ]
    }
   ],
   "source": [
    "prediction = model.predict(img_array)\n"
   ]
  },
  {
   "cell_type": "code",
   "execution_count": 41,
   "id": "44371c33-e29c-4573-a01f-3bdd0f2ad898",
   "metadata": {},
   "outputs": [
    {
     "name": "stdout",
     "output_type": "stream",
     "text": [
      "The predicted class is: Uninfected\n"
     ]
    }
   ],
   "source": [
    "class_index = int(np.round(prediction))\n",
    "class_name = class_names[class_index]\n",
    "print('The predicted class is:', class_name)"
   ]
  },
  {
   "cell_type": "code",
   "execution_count": 33,
   "id": "5edd069d-89bb-49cd-a2cd-fbe3ad76b0ad",
   "metadata": {},
   "outputs": [
    {
     "name": "stdout",
     "output_type": "stream",
     "text": [
      "0\n"
     ]
    }
   ],
   "source": [
    "print(class_index)"
   ]
  },
  {
   "cell_type": "code",
   "execution_count": null,
   "id": "72a50ef6-87c4-41a0-a5d2-ffaf28a8e894",
   "metadata": {},
   "outputs": [],
   "source": []
  }
 ],
 "metadata": {
  "kernelspec": {
   "display_name": "Python 3 (ipykernel)",
   "language": "python",
   "name": "python3"
  },
  "language_info": {
   "codemirror_mode": {
    "name": "ipython",
    "version": 3
   },
   "file_extension": ".py",
   "mimetype": "text/x-python",
   "name": "python",
   "nbconvert_exporter": "python",
   "pygments_lexer": "ipython3",
   "version": "3.9.16"
  }
 },
 "nbformat": 4,
 "nbformat_minor": 5
}
