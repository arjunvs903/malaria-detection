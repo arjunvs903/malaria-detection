{
 "cells": [
  {
   "cell_type": "markdown",
   "id": "ed95e1a3-8dd8-4f26-add5-0d5c0f1524f8",
   "metadata": {},
   "source": [
    "## Spliting training, validation and tesing data from orginal dataset"
   ]
  },
  {
   "cell_type": "code",
   "execution_count": 2,
   "id": "11d5a402-1c2f-4c58-83f0-aabb3a5d0fc5",
   "metadata": {},
   "outputs": [],
   "source": [
    "import os\n",
    "import shutil\n",
    "import random\n",
    "\n",
    "# Set the paths for the original dataset, and the new directories for train, val, and test sets\n",
    "original_dataset_dir = 'datasource/cell_images'\n",
    "base_dir = 'dataset'\n",
    "train_dir = os.path.join(base_dir, 'train')\n",
    "val_dir = os.path.join(base_dir, 'val')\n",
    "test_dir = os.path.join(base_dir, 'test')\n",
    "\n",
    "# Set the percentage of data for each set\n",
    "train_percentage = 0.7\n",
    "val_percentage = 0.2\n",
    "test_percentage = 0.1\n",
    "\n",
    "# Create the new directories for train, val, and test sets\n",
    "os.makedirs(train_dir, exist_ok=True)\n",
    "os.makedirs(val_dir, exist_ok=True)\n",
    "os.makedirs(test_dir, exist_ok=True)\n",
    "\n",
    "# Loop through each class directory in the original dataset and split the data\n",
    "for class_dir in os.listdir(original_dataset_dir):\n",
    "    class_path = os.path.join(original_dataset_dir, class_dir)\n",
    "    if not os.path.isdir(class_path):\n",
    "        continue\n",
    "\n",
    "    # Create the new directories for this class in train, val, and test sets\n",
    "    os.makedirs(os.path.join(train_dir, class_dir), exist_ok=True)\n",
    "    os.makedirs(os.path.join(val_dir, class_dir), exist_ok=True)\n",
    "    os.makedirs(os.path.join(test_dir, class_dir), exist_ok=True)\n",
    "\n",
    "    # Get the list of all image filenames in this class directory\n",
    "    all_images = os.listdir(class_path)\n",
    "    random.shuffle(all_images)\n",
    "\n",
    "    # Calculate the number of images for each set based on the percentages\n",
    "    num_images = len(all_images)\n",
    "    num_train_images = int(num_images * train_percentage)\n",
    "    num_val_images = int(num_images * val_percentage)\n",
    "    num_test_images = num_images - num_train_images - num_val_images\n",
    "\n",
    "    # Copy the images to the corresponding directories in train, val, and test sets\n",
    "    for i, image_name in enumerate(all_images):\n",
    "        src_path = os.path.join(class_path, image_name)\n",
    "\n",
    "        if i < num_train_images:\n",
    "            dst_dir = os.path.join(train_dir, class_dir)\n",
    "        elif i < num_train_images + num_val_images:\n",
    "            dst_dir = os.path.join(val_dir, class_dir)\n",
    "        else:\n",
    "            dst_dir = os.path.join(test_dir, class_dir)\n",
    "\n",
    "        dst_path = os.path.join(dst_dir, image_name)\n",
    "        shutil.copyfile(src_path, dst_path)"
   ]
  },
  {
   "cell_type": "code",
   "execution_count": null,
   "id": "46939769-8e94-4d3c-a9bd-600ae24ca35c",
   "metadata": {},
   "outputs": [],
   "source": []
  }
 ],
 "metadata": {
  "kernelspec": {
   "display_name": "Python 3 (ipykernel)",
   "language": "python",
   "name": "python3"
  },
  "language_info": {
   "codemirror_mode": {
    "name": "ipython",
    "version": 3
   },
   "file_extension": ".py",
   "mimetype": "text/x-python",
   "name": "python",
   "nbconvert_exporter": "python",
   "pygments_lexer": "ipython3",
   "version": "3.9.16"
  }
 },
 "nbformat": 4,
 "nbformat_minor": 5
}
